{
 "cells": [
  {
   "cell_type": "markdown",
   "metadata": {},
   "source": [
    "### A description of the problem and a discussion of the background.\n",
    "\n",
    "Sucsessful fast food chain (e.g. Hesburger) in Europe has decided to enter North American market. The decision has made to enter NY market as its good location in a sense of logistics. But as known, the market in NY is highly competitive, so the company has decided to evaluate the case against entering firstly the Canadas biggest market i.e. Toronto instead. The main goal is to dicover areas with lower competition and evaluate them against populated places e.g. railway stations."
   ]
  },
  {
   "cell_type": "markdown",
   "metadata": {},
   "source": [
    "### A description of the data and how it will be used to solve the problem.\n",
    "\n",
    "To solve the problem we gather data of fast food locations from Foursquare api. Then the clustering can be used. Firstly the clusters of transportation or movement nodes can be made, secondly the clusters of fast food locations can be formed. Then the distances between transportation cluster centers and fast food cluster centers can be measured. The longest the measure of distance of cluster centers the highest potential for fast food chain to evaluate the place as market entery location."
   ]
  },
  {
   "cell_type": "code",
   "execution_count": null,
   "metadata": {},
   "outputs": [],
   "source": []
  }
 ],
 "metadata": {
  "kernelspec": {
   "display_name": "Python 3",
   "language": "python",
   "name": "python3"
  },
  "language_info": {
   "codemirror_mode": {
    "name": "ipython",
    "version": 3
   },
   "file_extension": ".py",
   "mimetype": "text/x-python",
   "name": "python",
   "nbconvert_exporter": "python",
   "pygments_lexer": "ipython3",
   "version": "3.7.1"
  }
 },
 "nbformat": 4,
 "nbformat_minor": 2
}
